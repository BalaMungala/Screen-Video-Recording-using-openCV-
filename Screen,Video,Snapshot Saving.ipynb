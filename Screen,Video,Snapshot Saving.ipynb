{
 "cells": [
  {
   "cell_type": "code",
   "execution_count": 5,
   "metadata": {},
   "outputs": [
    {
     "name": "stdout",
     "output_type": "stream",
     "text": [
      "Escape hit, closing...\n"
     ]
    }
   ],
   "source": [
    "import imageio\n",
    "import cv2\n",
    "from PIL import ImageGrab\n",
    "import numpy as np\n",
    "\n",
    "\n",
    "cam = cv2.VideoCapture(0)\n",
    "cv2.namedWindow(\"test\")\n",
    "img_counter = 0\n",
    "camera = imageio.get_writer('E://camera_show.mp4', fps = 8)\n",
    "screen = imageio.get_writer('E://live_show.mp4', fps = 8)\n",
    "while True:\n",
    "    ret, frame = cam.read()\n",
    "    img = ImageGrab.grab()\n",
    "    img_np = np.array(img)\n",
    "    frame1 = cv2.cvtColor(img_np, cv2.COLOR_BGR2RGB)\n",
    "    screen.append_data(frame1)\n",
    "    cv2.imshow(\"test\", frame)\n",
    "    camera.append_data(frame)\n",
    "    if not ret:\n",
    "        print(\"no image streaming\")\n",
    "        break\n",
    "    k = cv2.waitKey(1)\n",
    "    if k%256 == 27:\n",
    "        print(\"Escape hit, closing...\")\n",
    "        break\n",
    "    elif k%256 == 32:\n",
    "        img_name = \"opencv_frame_{}.png\".format(img_counter)\n",
    "        cv2.imwrite(img_name, frame)\n",
    "        print(\"{} written!\".format(img_name))\n",
    "        img_counter += 1\n",
    "        \n",
    "   \n",
    "cam.release()\n",
    "camera.close()  \n",
    "screen.close() \n",
    "cv2.destroyAllWindows()"
   ]
  },
  {
   "cell_type": "code",
   "execution_count": null,
   "metadata": {},
   "outputs": [],
   "source": []
  },
  {
   "cell_type": "code",
   "execution_count": null,
   "metadata": {},
   "outputs": [],
   "source": []
  }
 ],
 "metadata": {
  "kernelspec": {
   "display_name": "Python 3",
   "language": "python",
   "name": "python3"
  },
  "language_info": {
   "codemirror_mode": {
    "name": "ipython",
    "version": 3
   },
   "file_extension": ".py",
   "mimetype": "text/x-python",
   "name": "python",
   "nbconvert_exporter": "python",
   "pygments_lexer": "ipython3",
   "version": "3.6.6"
  }
 },
 "nbformat": 4,
 "nbformat_minor": 2
}
